{
 "cells": [
  {
   "cell_type": "markdown",
   "metadata": {},
   "source": [
    "# Imports"
   ]
  },
  {
   "cell_type": "code",
   "execution_count": 100,
   "metadata": {},
   "outputs": [],
   "source": [
    "import numpy as np\n",
    "from scipy import ndimage\n",
    "\n",
    "from typing import Tuple"
   ]
  },
  {
   "cell_type": "markdown",
   "metadata": {},
   "source": [
    "# Utils"
   ]
  },
  {
   "cell_type": "code",
   "execution_count": 201,
   "metadata": {},
   "outputs": [],
   "source": [
    "def analyze_clusters(microplate: np.ndarray, min_size: int = 2) -> Tuple:\n",
    "    \"\"\"\n",
    "    Analyze cell clusters on a microplate \n",
    "    \n",
    "    Parameters\n",
    "    ----------\n",
    "    \n",
    "    Returns\n",
    "    -------\n",
    "    tuple\n",
    "        (number of positive cells, number of clusters, size of largest cluster)\n",
    "    \"\"\"\n",
    "    matrix = np.nan_to_num(microplate, 0)\n",
    "    structure = ndimage.generate_binary_structure(2, 1)\n",
    "    \n",
    "    clusters, num_clusters = ndimage.label(matrix, structure)\n",
    "    cluster_sizes = ndimage.sum(matrix, clusters, range(0, num_clusters + 1))\n",
    "    \n",
    "    mask = (cluster_sizes >= min_size)[clusters]\n",
    "    clusters = clusters[mask]\n",
    "    \n",
    "    unique_labels, label_counts = np.unique(clusters, return_counts=True)\n",
    "\n",
    "    return int(np.sum(matrix)), len(unique_labels), label_counts.max()"
   ]
  },
  {
   "cell_type": "markdown",
   "metadata": {},
   "source": [
    "# Settings"
   ]
  },
  {
   "cell_type": "code",
   "execution_count": 202,
   "metadata": {},
   "outputs": [],
   "source": [
    "num_microplates = 10000 # the number of microplates to simulate    \n",
    "shape = (8, 12)         # shape of each microplate, `(nrows, ncols)`\n",
    "prevalence = 0.4        # population prevalence, binomial success probability \n",
    "num_controls = 6        # the number of control wells per microplate\n",
    "seed = 123              # passed to np.random.seed"
   ]
  },
  {
   "cell_type": "markdown",
   "metadata": {},
   "source": [
    "# Generate samples"
   ]
  },
  {
   "cell_type": "code",
   "execution_count": 203,
   "metadata": {},
   "outputs": [],
   "source": [
    "np.random.seed(123)"
   ]
  },
  {
   "cell_type": "code",
   "execution_count": 204,
   "metadata": {},
   "outputs": [
    {
     "data": {
      "text/plain": [
       "(900000,)"
      ]
     },
     "execution_count": 204,
     "metadata": {},
     "output_type": "execute_result"
    }
   ],
   "source": [
    "num_samples = num_microplates * (shape[0] * shape[1] - num_controls)\n",
    "samples = np.random.binomial(1, prevalence, size=num_samples)\n",
    "samples.shape"
   ]
  },
  {
   "cell_type": "code",
   "execution_count": 205,
   "metadata": {},
   "outputs": [
    {
     "data": {
      "text/plain": [
       "10000"
      ]
     },
     "execution_count": 205,
     "metadata": {},
     "output_type": "execute_result"
    }
   ],
   "source": [
    "microplates = np.split(samples, num_microplates)\n",
    "len(microplates)"
   ]
  },
  {
   "cell_type": "code",
   "execution_count": 206,
   "metadata": {},
   "outputs": [
    {
     "data": {
      "text/plain": [
       "array([[nan, nan, nan, nan, nan, nan,  1.,  0.,  0.,  0.,  1.,  0.],\n",
       "       [ 1.,  1.,  0.,  0.,  0.,  1.,  0.,  0.,  0.,  1.,  0.,  0.],\n",
       "       [ 0.,  0.,  1.,  1.,  1.,  1.,  1.,  0.,  0.,  0.,  0.,  1.],\n",
       "       [ 0.,  0.,  0.,  0.,  0.,  0.,  0.,  1.,  1.,  0.,  1.,  0.],\n",
       "       [ 0.,  0.,  1.,  0.,  0.,  1.,  0.,  1.,  0.,  1.,  1.,  0.],\n",
       "       [ 0.,  0.,  0.,  1.,  1.,  0.,  1.,  0.,  1.,  1.,  1.,  0.],\n",
       "       [ 1.,  0.,  0.,  0.,  0.,  1.,  1.,  1.,  0.,  0.,  0.,  0.],\n",
       "       [ 0.,  1.,  0.,  1.,  0.,  0.,  1.,  1.,  0.,  0.,  0.,  0.]])"
      ]
     },
     "execution_count": 206,
     "metadata": {},
     "output_type": "execute_result"
    }
   ],
   "source": [
    "microplate = np.pad(microplates[0].astype(float), (num_controls,0), constant_values=np.nan)\n",
    "microplate = np.reshape(microplate, shape)\n",
    "microplate"
   ]
  },
  {
   "cell_type": "code",
   "execution_count": 207,
   "metadata": {},
   "outputs": [
    {
     "data": {
      "text/plain": [
       "(34, 6, 6)"
      ]
     },
     "execution_count": 207,
     "metadata": {},
     "output_type": "execute_result"
    }
   ],
   "source": [
    "analyze_clusters(microplate)"
   ]
  },
  {
   "cell_type": "markdown",
   "metadata": {},
   "source": [
    "# Identify cell clusters"
   ]
  },
  {
   "cell_type": "code",
   "execution_count": 138,
   "metadata": {},
   "outputs": [
    {
     "data": {
      "text/plain": [
       "array([[False,  True, False],\n",
       "       [ True,  True,  True],\n",
       "       [False,  True, False]])"
      ]
     },
     "execution_count": 138,
     "metadata": {},
     "output_type": "execute_result"
    }
   ],
   "source": [
    "structure = ndimage.generate_binary_structure(2, 1)\n",
    "structure"
   ]
  },
  {
   "cell_type": "code",
   "execution_count": 175,
   "metadata": {},
   "outputs": [
    {
     "data": {
      "text/plain": [
       "(array([[ 0,  0,  0,  0,  0,  0,  1,  0,  0,  0,  2,  0],\n",
       "        [ 3,  3,  0,  0,  0,  4,  0,  0,  0,  5,  0,  0],\n",
       "        [ 0,  0,  4,  4,  4,  4,  4,  0,  0,  0,  0,  6],\n",
       "        [ 0,  0,  0,  0,  0,  0,  0,  7,  7,  0,  8,  0],\n",
       "        [ 0,  0,  9,  0,  0, 10,  0,  7,  0,  8,  8,  0],\n",
       "        [ 0,  0,  0, 11, 11,  0, 12,  0,  8,  8,  8,  0],\n",
       "        [13,  0,  0,  0,  0, 12, 12, 12,  0,  0,  0,  0],\n",
       "        [ 0, 14,  0, 15,  0,  0, 12, 12,  0,  0,  0,  0]], dtype=int32),\n",
       " 15)"
      ]
     },
     "execution_count": 175,
     "metadata": {},
     "output_type": "execute_result"
    }
   ],
   "source": [
    "clusters, num_clusters = ndimage.label(np.nan_to_num(x, 0), structure)\n",
    "clusters, num_clusters"
   ]
  },
  {
   "cell_type": "code",
   "execution_count": 176,
   "metadata": {},
   "outputs": [
    {
     "data": {
      "text/plain": [
       "array([0., 1., 1., 2., 6., 1., 1., 3., 6., 1., 1., 2., 6., 1., 1., 1.])"
      ]
     },
     "execution_count": 176,
     "metadata": {},
     "output_type": "execute_result"
    }
   ],
   "source": [
    "sizes = ndimage.sum(x, clusters, range(0, num_clusters + 1))\n",
    "sizes"
   ]
  },
  {
   "cell_type": "code",
   "execution_count": 196,
   "metadata": {},
   "outputs": [
    {
     "data": {
      "text/plain": [
       "array([[False, False, False, False, False, False, False, False, False,\n",
       "        False, False, False],\n",
       "       [ True,  True, False, False, False,  True, False, False, False,\n",
       "        False, False, False],\n",
       "       [False, False,  True,  True,  True,  True,  True, False, False,\n",
       "        False, False, False],\n",
       "       [False, False, False, False, False, False, False,  True,  True,\n",
       "        False,  True, False],\n",
       "       [False, False, False, False, False, False, False,  True, False,\n",
       "         True,  True, False],\n",
       "       [False, False, False,  True,  True, False,  True, False,  True,\n",
       "         True,  True, False],\n",
       "       [False, False, False, False, False,  True,  True,  True, False,\n",
       "        False, False, False],\n",
       "       [False, False, False, False, False, False,  True,  True, False,\n",
       "        False, False, False]])"
      ]
     },
     "execution_count": 196,
     "metadata": {},
     "output_type": "execute_result"
    }
   ],
   "source": [
    "mask = (sizes > 1)[clusters]\n",
    "mask"
   ]
  },
  {
   "cell_type": "code",
   "execution_count": 197,
   "metadata": {},
   "outputs": [
    {
     "data": {
      "text/plain": [
       "array([ 3,  3,  4,  4,  4,  4,  4,  4,  7,  7,  8,  7,  8,  8, 11, 11, 12,\n",
       "        8,  8,  8, 12, 12, 12, 12, 12], dtype=int32)"
      ]
     },
     "execution_count": 197,
     "metadata": {},
     "output_type": "execute_result"
    }
   ],
   "source": [
    "labels = clusters[mask]\n",
    "labels"
   ]
  },
  {
   "cell_type": "code",
   "execution_count": 188,
   "metadata": {},
   "outputs": [],
   "source": [
    "cluster_labels, cluster_sizes = np.unique(labels, return_counts=True)"
   ]
  },
  {
   "cell_type": "code",
   "execution_count": 190,
   "metadata": {},
   "outputs": [],
   "source": [
    "num_positive = np.nansum(x).astype(int)"
   ]
  },
  {
   "cell_type": "code",
   "execution_count": 191,
   "metadata": {},
   "outputs": [
    {
     "data": {
      "text/plain": [
       "(34, 6, 6)"
      ]
     },
     "execution_count": 191,
     "metadata": {},
     "output_type": "execute_result"
    }
   ],
   "source": [
    "num_positive, len(cluster_labels), cluster_sizes.max()"
   ]
  }
 ],
 "metadata": {
  "kernelspec": {
   "display_name": "Python 3",
   "language": "python",
   "name": "python3"
  },
  "language_info": {
   "codemirror_mode": {
    "name": "ipython",
    "version": 3
   },
   "file_extension": ".py",
   "mimetype": "text/x-python",
   "name": "python",
   "nbconvert_exporter": "python",
   "pygments_lexer": "ipython3",
   "version": "3.7.2"
  },
  "toc": {
   "base_numbering": 1,
   "nav_menu": {},
   "number_sections": true,
   "sideBar": true,
   "skip_h1_title": false,
   "title_cell": "Table of Contents",
   "title_sidebar": "Contents",
   "toc_cell": false,
   "toc_position": {},
   "toc_section_display": true,
   "toc_window_display": true
  }
 },
 "nbformat": 4,
 "nbformat_minor": 4
}
