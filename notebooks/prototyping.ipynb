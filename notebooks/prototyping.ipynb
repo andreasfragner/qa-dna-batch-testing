{
 "cells": [
  {
   "cell_type": "markdown",
   "metadata": {},
   "source": [
    "# Imports"
   ]
  },
  {
   "cell_type": "code",
   "execution_count": 36,
   "metadata": {},
   "outputs": [],
   "source": [
    "import numpy as np\n",
    "import pandas as pd\n",
    "from scipy import ndimage\n",
    "import seaborn as sns\n",
    "from joblib import delayed, Parallel\n",
    "import matplotlib.pyplot as plt\n",
    "from typing import Tuple"
   ]
  },
  {
   "cell_type": "markdown",
   "metadata": {},
   "source": [
    "# Utils"
   ]
  },
  {
   "cell_type": "code",
   "execution_count": 2,
   "metadata": {},
   "outputs": [],
   "source": [
    "def analyze_clusters(microplate: np.ndarray, min_size: int = 2) -> Tuple:\n",
    "    \"\"\"\n",
    "    Analyze cell clusters on a microplate \n",
    "    \n",
    "    Parameters\n",
    "    ----------\n",
    "    microplate : np.ndarray\n",
    "        a 2D binary matrix representing a microplate assay\n",
    "    \n",
    "    Returns\n",
    "    -------\n",
    "    tuple\n",
    "        (number of positive cells, number of clusters, size of largest cluster)\n",
    "    \"\"\"\n",
    "    matrix = np.nan_to_num(microplate, 0)\n",
    "    structure = ndimage.generate_binary_structure(2, 1)\n",
    "    \n",
    "    clusters, num_clusters = ndimage.label(matrix, structure)\n",
    "    cluster_sizes = ndimage.sum(matrix, clusters, range(0, num_clusters + 1))\n",
    "    \n",
    "    mask = (cluster_sizes >= min_size)[clusters]\n",
    "    clusters = clusters[mask]\n",
    "    \n",
    "    unique_labels, label_counts = np.unique(clusters, return_counts=True)\n",
    "    max_cluster_size = label_counts.max() if label_counts.size > 0 else 0\n",
    "    \n",
    "    return int(np.sum(matrix)), len(unique_labels), max_cluster_size"
   ]
  },
  {
   "cell_type": "markdown",
   "metadata": {},
   "source": [
    "# Settings"
   ]
  },
  {
   "cell_type": "code",
   "execution_count": 3,
   "metadata": {},
   "outputs": [],
   "source": [
    "results = {}"
   ]
  },
  {
   "cell_type": "code",
   "execution_count": 17,
   "metadata": {},
   "outputs": [],
   "source": [
    "microplates = 10000    \n",
    "shape = (8, 12)        \n",
    "prevalence = 0.18\n",
    "controls = 6\n",
    "controls_position = 'top-left'\n",
    "seed = 123\n",
    "processes = 1"
   ]
  },
  {
   "cell_type": "markdown",
   "metadata": {},
   "source": [
    "# Simulate"
   ]
  },
  {
   "cell_type": "code",
   "execution_count": 18,
   "metadata": {},
   "outputs": [],
   "source": [
    "np.random.seed(seed)"
   ]
  },
  {
   "cell_type": "code",
   "execution_count": 19,
   "metadata": {},
   "outputs": [
    {
     "data": {
      "text/plain": [
       "(900000,)"
      ]
     },
     "execution_count": 19,
     "metadata": {},
     "output_type": "execute_result"
    }
   ],
   "source": [
    "num_samples = microplates * (shape[0] * shape[1] - controls)\n",
    "samples = np.random.binomial(1, prevalence, size=num_samples)\n",
    "samples.shape"
   ]
  },
  {
   "cell_type": "code",
   "execution_count": 20,
   "metadata": {},
   "outputs": [
    {
     "data": {
      "text/plain": [
       "10000"
      ]
     },
     "execution_count": 20,
     "metadata": {},
     "output_type": "execute_result"
    }
   ],
   "source": [
    "vectors = np.split(samples, microplates)\n",
    "len(vectors)"
   ]
  },
  {
   "cell_type": "code",
   "execution_count": 21,
   "metadata": {},
   "outputs": [],
   "source": [
    "if controls_position == 'top-left':\n",
    "    padding = (controls, 0)\n",
    "elif controls_position == 'bottom_right':\n",
    "    padding = (0, controls)\n",
    "else:\n",
    "    raise ValueError"
   ]
  },
  {
   "cell_type": "code",
   "execution_count": 22,
   "metadata": {},
   "outputs": [],
   "source": [
    "def _analyze(vector, padding, shape):\n",
    "    matrix = np.pad(vector, padding, constant_values=0)\n",
    "    matrix = np.reshape(matrix, shape)\n",
    "    return analyze_clusters(matrix)"
   ]
  },
  {
   "cell_type": "code",
   "execution_count": 23,
   "metadata": {},
   "outputs": [
    {
     "name": "stderr",
     "output_type": "stream",
     "text": [
      "[Parallel(n_jobs=2)]: Using backend LokyBackend with 2 concurrent workers.\n",
      "[Parallel(n_jobs=2)]: Done   1 tasks      | elapsed:    0.0s\n",
      "[Parallel(n_jobs=2)]: Batch computation too fast (0.0237s.) Setting batch_size=2.\n",
      "[Parallel(n_jobs=2)]: Done   4 tasks      | elapsed:    0.0s\n",
      "[Parallel(n_jobs=2)]: Batch computation too fast (0.0249s.) Setting batch_size=4.\n",
      "[Parallel(n_jobs=2)]: Done  16 tasks      | elapsed:    0.1s\n",
      "[Parallel(n_jobs=2)]: Batch computation too fast (0.0190s.) Setting batch_size=8.\n",
      "[Parallel(n_jobs=2)]: Batch computation too fast (0.0175s.) Setting batch_size=16.\n",
      "[Parallel(n_jobs=2)]: Done  44 tasks      | elapsed:    0.1s\n",
      "[Parallel(n_jobs=2)]: Batch computation too fast (0.0788s.) Setting batch_size=32.\n",
      "[Parallel(n_jobs=2)]: Done 156 tasks      | elapsed:    0.2s\n",
      "[Parallel(n_jobs=2)]: Batch computation too fast (0.0308s.) Setting batch_size=64.\n",
      "[Parallel(n_jobs=2)]: Batch computation too fast (0.0541s.) Setting batch_size=128.\n",
      "[Parallel(n_jobs=2)]: Done 508 tasks      | elapsed:    0.3s\n",
      "[Parallel(n_jobs=2)]: Batch computation too fast (0.0758s.) Setting batch_size=256.\n",
      "[Parallel(n_jobs=2)]: Batch computation too fast (0.1611s.) Setting batch_size=512.\n",
      "[Parallel(n_jobs=2)]: Done 2556 tasks      | elapsed:    0.9s\n",
      "[Parallel(n_jobs=2)]: Done 7164 tasks      | elapsed:    1.8s\n",
      "[Parallel(n_jobs=2)]: Done 9485 tasks      | elapsed:    2.3s\n",
      "[Parallel(n_jobs=2)]: Done 9914 tasks      | elapsed:    2.4s\n",
      "[Parallel(n_jobs=2)]: Done 10000 out of 10000 | elapsed:    2.4s finished\n"
     ]
    }
   ],
   "source": [
    "rv = Parallel(n_jobs=2, verbose=10)(delayed(_analyze)(vector, padding, shape) for vector in vectors)"
   ]
  },
  {
   "cell_type": "code",
   "execution_count": 24,
   "metadata": {},
   "outputs": [
    {
     "data": {
      "text/plain": [
       "(10000, 3)"
      ]
     },
     "execution_count": 24,
     "metadata": {},
     "output_type": "execute_result"
    }
   ],
   "source": [
    "rv = np.array(rv)\n",
    "rv.shape"
   ]
  },
  {
   "cell_type": "code",
   "execution_count": 25,
   "metadata": {},
   "outputs": [],
   "source": [
    "results[prevalence] = rv"
   ]
  },
  {
   "cell_type": "markdown",
   "metadata": {},
   "source": [
    "# Analyze"
   ]
  },
  {
   "cell_type": "markdown",
   "metadata": {},
   "source": [
    "## Num positive cells"
   ]
  },
  {
   "cell_type": "code",
   "execution_count": 54,
   "metadata": {},
   "outputs": [],
   "source": [
    "col = 0"
   ]
  },
  {
   "cell_type": "code",
   "execution_count": 55,
   "metadata": {},
   "outputs": [
    {
     "name": "stdout",
     "output_type": "stream",
     "text": [
      "0.16 14.0 14.3732 3 29 20.0\n",
      "0.18 16.0 16.1623 4 30 22.0\n"
     ]
    }
   ],
   "source": [
    "for key, data in results.items():\n",
    "    print(key, np.median(data[:, col]), np.mean(data[:, col]), np.min(data[:, col]), np.max(data[:, col]), \n",
    "          np.percentile(data[:, col], 95))"
   ]
  },
  {
   "cell_type": "code",
   "execution_count": 60,
   "metadata": {},
   "outputs": [
    {
     "name": "stderr",
     "output_type": "stream",
     "text": [
      "/Users/andreasfragner/Documents/personal/dev/qa-dna-batch-testing/.venv/lib/python3.7/site-packages/seaborn/distributions.py:2551: FutureWarning: `distplot` is a deprecated function and will be removed in a future version. Please adapt your code to use either `displot` (a figure-level function with similar flexibility) or `histplot` (an axes-level function for histograms).\n",
      "  warnings.warn(msg, FutureWarning)\n",
      "/Users/andreasfragner/Documents/personal/dev/qa-dna-batch-testing/.venv/lib/python3.7/site-packages/seaborn/distributions.py:2551: FutureWarning: `distplot` is a deprecated function and will be removed in a future version. Please adapt your code to use either `displot` (a figure-level function with similar flexibility) or `histplot` (an axes-level function for histograms).\n",
      "  warnings.warn(msg, FutureWarning)\n"
     ]
    },
    {
     "data": {
      "image/png": "[encoded data removed]",
      "text/plain": [
       "<Figure size 432x288 with 1 Axes>"
      ]
     },
     "metadata": {
      "needs_background": "light"
     },
     "output_type": "display_data"
    }
   ],
   "source": [
    "for key, data in results.items():\n",
    "    sns.distplot(data[:, col], label=key)\n",
    "    plt.legend()"
   ]
  },
  {
   "cell_type": "markdown",
   "metadata": {},
   "source": [
    "## Num clusters"
   ]
  },
  {
   "cell_type": "code",
   "execution_count": 61,
   "metadata": {},
   "outputs": [],
   "source": [
    "col = 1"
   ]
  },
  {
   "cell_type": "code",
   "execution_count": 62,
   "metadata": {},
   "outputs": [
    {
     "name": "stdout",
     "output_type": "stream",
     "text": [
      "0.16 2.0 2.5643 0 9 5.0\n",
      "0.18 3.0 3.03 0 9 5.0\n"
     ]
    }
   ],
   "source": [
    "for key, data in results.items():\n",
    "    print(key, np.median(data[:, col]), np.mean(data[:, col]), np.min(data[:, col]), np.max(data[:, col]), \n",
    "          np.percentile(data[:, col], 95))"
   ]
  },
  {
   "cell_type": "code",
   "execution_count": 64,
   "metadata": {},
   "outputs": [
    {
     "name": "stderr",
     "output_type": "stream",
     "text": [
      "/Users/andreasfragner/Documents/personal/dev/qa-dna-batch-testing/.venv/lib/python3.7/site-packages/seaborn/distributions.py:2551: FutureWarning: `distplot` is a deprecated function and will be removed in a future version. Please adapt your code to use either `displot` (a figure-level function with similar flexibility) or `histplot` (an axes-level function for histograms).\n",
      "  warnings.warn(msg, FutureWarning)\n",
      "/Users/andreasfragner/Documents/personal/dev/qa-dna-batch-testing/.venv/lib/python3.7/site-packages/seaborn/distributions.py:2551: FutureWarning: `distplot` is a deprecated function and will be removed in a future version. Please adapt your code to use either `displot` (a figure-level function with similar flexibility) or `histplot` (an axes-level function for histograms).\n",
      "  warnings.warn(msg, FutureWarning)\n"
     ]
    },
    {
     "data": {
      "image/png": "[encoded data removed]",
      "text/plain": [
       "<Figure size 432x288 with 1 Axes>"
      ]
     },
     "metadata": {
      "needs_background": "light"
     },
     "output_type": "display_data"
    }
   ],
   "source": [
    "for key, data in results.items():\n",
    "    sns.distplot(data[:, col], label=key)\n",
    "    plt.legend()"
   ]
  },
  {
   "cell_type": "markdown",
   "metadata": {},
   "source": [
    "## Size of largest cluster"
   ]
  },
  {
   "cell_type": "code",
   "execution_count": 65,
   "metadata": {},
   "outputs": [],
   "source": [
    "col = 2"
   ]
  },
  {
   "cell_type": "code",
   "execution_count": 66,
   "metadata": {},
   "outputs": [
    {
     "name": "stdout",
     "output_type": "stream",
     "text": [
      "0.16 3.0 3.0724 0 13 6.0\n",
      "0.18 3.0 3.4802 0 13 6.0\n"
     ]
    }
   ],
   "source": [
    "for key, data in results.items():\n",
    "    print(key, np.median(data[:, col]), np.mean(data[:, col]), np.min(data[:, col]), np.max(data[:, col]), \n",
    "          np.percentile(data[:, col], 95))"
   ]
  },
  {
   "cell_type": "code",
   "execution_count": 67,
   "metadata": {},
   "outputs": [
    {
     "name": "stderr",
     "output_type": "stream",
     "text": [
      "/Users/andreasfragner/Documents/personal/dev/qa-dna-batch-testing/.venv/lib/python3.7/site-packages/seaborn/distributions.py:2551: FutureWarning: `distplot` is a deprecated function and will be removed in a future version. Please adapt your code to use either `displot` (a figure-level function with similar flexibility) or `histplot` (an axes-level function for histograms).\n",
      "  warnings.warn(msg, FutureWarning)\n",
      "/Users/andreasfragner/Documents/personal/dev/qa-dna-batch-testing/.venv/lib/python3.7/site-packages/seaborn/distributions.py:2551: FutureWarning: `distplot` is a deprecated function and will be removed in a future version. Please adapt your code to use either `displot` (a figure-level function with similar flexibility) or `histplot` (an axes-level function for histograms).\n",
      "  warnings.warn(msg, FutureWarning)\n"
     ]
    },
    {
     "data": {
      "image/png": "[encoded data removed]",
      "text/plain": [
       "<Figure size 432x288 with 1 Axes>"
      ]
     },
     "metadata": {
      "needs_background": "light"
     },
     "output_type": "display_data"
    }
   ],
   "source": [
    "for key, data in results.items():\n",
    "    sns.distplot(data[:, col], label=key)\n",
    "    plt.legend()"
   ]
  },
  {
   "cell_type": "code",
   "execution_count": null,
   "metadata": {},
   "outputs": [],
   "source": []
  }
 ],
 "metadata": {
  "kernelspec": {
   "display_name": "Python 3",
   "language": "python",
   "name": "python3"
  },
  "language_info": {
   "codemirror_mode": {
    "name": "ipython",
    "version": 3
   },
   "file_extension": ".py",
   "mimetype": "text/x-python",
   "name": "python",
   "nbconvert_exporter": "python",
   "pygments_lexer": "ipython3",
   "version": "3.7.2"
  },
  "toc": {
   "base_numbering": 1,
   "nav_menu": {},
   "number_sections": true,
   "sideBar": true,
   "skip_h1_title": false,
   "title_cell": "Table of Contents",
   "title_sidebar": "Contents",
   "toc_cell": false,
   "toc_position": {
    "height": "calc(100% - 180px)",
    "left": "10px",
    "top": "150px",
    "width": "294px"
   },
   "toc_section_display": true,
   "toc_window_display": true
  }
 },
 "nbformat": 4,
 "nbformat_minor": 4
}
